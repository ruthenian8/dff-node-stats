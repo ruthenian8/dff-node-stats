{
 "cells": [
  {
   "cell_type": "code",
   "execution_count": 1,
   "metadata": {},
   "outputs": [],
   "source": [
    "import dff_node_stats\n",
    "import dff_node_stats.collectors as DSC"
   ]
  },
  {
   "cell_type": "code",
   "execution_count": 3,
   "metadata": {},
   "outputs": [],
   "source": [
    "stats = dff_node_stats.Stats(\n",
    "    saver=dff_node_stats.Saver(\"csv://stats.csv\"),\n",
    "    collectors=[\n",
    "        DSC.NodeLabelCollector()\n",
    "    ]\n",
    ")\n",
    "df = stats.dataframe"
   ]
  },
  {
   "cell_type": "code",
   "execution_count": null,
   "metadata": {},
   "outputs": [],
   "source": [
    "\n",
    "from dff_node_stats.widgets import FilterType\n",
    "from dff_node_stats.widgets.jupyter import WidgetDashboard\n",
    "filt = FilterType(\"Choose flow\", \"flow_label\", lambda x, y: x == y, default=\"None\")\n",
    "filt2 = FilterType(\"Choose turn\", \"history_id\", lambda x, y: x == y, default=\"None\")\n",
    "widget = WidgetDashboard(df, filters=[filt, filt2])\n",
    "widget()"
   ]
  }
 ],
 "metadata": {
  "interpreter": {
   "hash": "ef5e709c32282ead2f396560af7394ebc729c64926310861bad75628c0184094"
  },
  "kernelspec": {
   "display_name": "Python 3.8.3 64-bit ('venv': venv)",
   "language": "python",
   "name": "python3"
  },
  "language_info": {
   "codemirror_mode": {
    "name": "ipython",
    "version": 3
   },
   "file_extension": ".py",
   "mimetype": "text/x-python",
   "name": "python",
   "nbconvert_exporter": "python",
   "pygments_lexer": "ipython3",
   "version": "3.8.3"
  },
  "orig_nbformat": 4
 },
 "nbformat": 4,
 "nbformat_minor": 2
}
