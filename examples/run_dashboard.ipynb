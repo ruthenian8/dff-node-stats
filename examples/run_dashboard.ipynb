{
 "cells": [
  {
   "cell_type": "code",
   "execution_count": 1,
   "metadata": {},
   "outputs": [],
   "source": [
    "import dff_node_stats"
   ]
  },
  {
   "cell_type": "code",
   "execution_count": 2,
   "metadata": {},
   "outputs": [],
   "source": [
    "stats = dff_node_stats.stats_builder(\n",
    "    dff_node_stats.Saver(path=\"csv://stats.csv\"),\n",
    "    collectors= [\n",
    "        \"NodeLabelCollector\",\n",
    "        \"RequestCollector\",\n",
    "        \"ResponseCollector\"\n",
    "    ]\n",
    ")\n",
    "\n",
    "df = stats.dataframe"
   ]
  },
  {
   "cell_type": "code",
   "execution_count": 3,
   "metadata": {},
   "outputs": [
    {
     "data": {
      "application/vnd.jupyter.widget-view+json": {
       "model_id": "105920319130491392535272b31204a4",
       "version_major": 2,
       "version_minor": 0
      },
      "text/plain": [
       "WidgetDashboard(children=(VBox(children=(Dropdown(description='context_id', options=((None, None), ('69306a59-…"
      ]
     },
     "metadata": {},
     "output_type": "display_data"
    }
   ],
   "source": [
    "\n",
    "from dff_node_stats.widgets import FilterType\n",
    "filt = FilterType(\"Choose flow\", \"flow_label\", lambda x, y: x == y, default=\"None\")\n",
    "filt2 = FilterType(\"Choose turn\", \"history_id\", lambda x, y: x == y, default=\"None\")\n",
    "widget = dff_node_stats.WidgetDashboard(df, filters=[filt, filt2])\n",
    "widget()"
   ]
  }
 ],
 "metadata": {
  "interpreter": {
   "hash": "ef5e709c32282ead2f396560af7394ebc729c64926310861bad75628c0184094"
  },
  "kernelspec": {
   "display_name": "Python 3.8.3 64-bit ('venv': venv)",
   "language": "python",
   "name": "python3"
  },
  "language_info": {
   "codemirror_mode": {
    "name": "ipython",
    "version": 3
   },
   "file_extension": ".py",
   "mimetype": "text/x-python",
   "name": "python",
   "nbconvert_exporter": "python",
   "pygments_lexer": "ipython3",
   "version": "3.8.3"
  },
  "orig_nbformat": 4
 },
 "nbformat": 4,
 "nbformat_minor": 2
}
